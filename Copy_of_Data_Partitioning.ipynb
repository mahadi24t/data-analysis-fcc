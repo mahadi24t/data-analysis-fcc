{
  "nbformat": 4,
  "nbformat_minor": 0,
  "metadata": {
    "colab": {
      "provenance": [],
      "include_colab_link": true
    },
    "kernelspec": {
      "name": "python3",
      "display_name": "Python 3"
    },
    "language_info": {
      "name": "python"
    }
  },
  "cells": [
    {
      "cell_type": "markdown",
      "metadata": {
        "id": "view-in-github",
        "colab_type": "text"
      },
      "source": [
        "<a href=\"https://colab.research.google.com/github/mahadi24t/data-analysis-fcc/blob/main/Copy_of_Data_Partitioning.ipynb\" target=\"_parent\"><img src=\"https://colab.research.google.com/assets/colab-badge.svg\" alt=\"Open In Colab\"/></a>"
      ]
    },
    {
      "cell_type": "code",
      "execution_count": 1,
      "metadata": {
        "colab": {
          "base_uri": "https://localhost:8080/"
        },
        "id": "qD8qodqhfZT4",
        "outputId": "ca3e37f5-7f68-485e-b624-cc3011eb7183"
      },
      "outputs": [
        {
          "output_type": "stream",
          "name": "stdout",
          "text": [
            "Requirement already satisfied: pyspark in /usr/local/lib/python3.11/dist-packages (3.5.1)\n",
            "Requirement already satisfied: py4j==0.10.9.7 in /usr/local/lib/python3.11/dist-packages (from pyspark) (0.10.9.7)\n"
          ]
        }
      ],
      "source": [
        "!pip install pyspark\n"
      ]
    },
    {
      "cell_type": "code",
      "source": [
        "from pyspark.sql import SparkSession\n",
        "import pyspark.sql.functions as F\n",
        "import random\n",
        "import string"
      ],
      "metadata": {
        "id": "AOAW40JViQvC"
      },
      "execution_count": 2,
      "outputs": []
    },
    {
      "cell_type": "code",
      "source": [
        "# Initialize Spark session\n",
        "spark = SparkSession.builder \\\n",
        "    .appName(\"Big Data Partitioning\") \\\n",
        "    .config(\"spark.driver.memory\", \"4g\") \\\n",
        "    .getOrCreate()"
      ],
      "metadata": {
        "id": "ezbhU0OsiTRo"
      },
      "execution_count": 3,
      "outputs": []
    },
    {
      "cell_type": "code",
      "source": [
        "# Function to generate random string\n",
        "def random_string(length=10):\n",
        "    return ''.join(random.choices(string.ascii_lowercase, k=length))"
      ],
      "metadata": {
        "id": "3Uc0gvxFiXSQ"
      },
      "execution_count": 4,
      "outputs": []
    },
    {
      "cell_type": "code",
      "source": [
        "# Register UDF for random string generation\n",
        "spark.udf.register(\"random_string\", random_string)\n"
      ],
      "metadata": {
        "colab": {
          "base_uri": "https://localhost:8080/",
          "height": 104
        },
        "id": "cMi5zXgMiaLQ",
        "outputId": "b6353549-80e6-42ab-cc89-3b1a712f4b7a"
      },
      "execution_count": 5,
      "outputs": [
        {
          "output_type": "execute_result",
          "data": {
            "text/plain": [
              "<function __main__.random_string(length=10)>"
            ],
            "text/html": [
              "<div style=\"max-width:800px; border: 1px solid var(--colab-border-color);\"><style>\n",
              "      pre.function-repr-contents {\n",
              "        overflow-x: auto;\n",
              "        padding: 8px 12px;\n",
              "        max-height: 500px;\n",
              "      }\n",
              "\n",
              "      pre.function-repr-contents.function-repr-contents-collapsed {\n",
              "        cursor: pointer;\n",
              "        max-height: 100px;\n",
              "      }\n",
              "    </style>\n",
              "    <pre style=\"white-space: initial; background:\n",
              "         var(--colab-secondary-surface-color); padding: 8px 12px;\n",
              "         border-bottom: 1px solid var(--colab-border-color);\"><b>random_string</b><br/>def random_string(length=10)</pre><pre class=\"function-repr-contents function-repr-contents-collapsed\" style=\"\"><a class=\"filepath\" style=\"display:none\" href=\"#\">/tmp/ipython-input-4-2282110956.py</a>&lt;no docstring&gt;</pre></div>"
            ]
          },
          "metadata": {},
          "execution_count": 5
        }
      ]
    },
    {
      "cell_type": "code",
      "source": [
        "# Generate synthetic big data (approx. 1M rows)\n",
        "num_rows = 1000000\n",
        "data = spark.range(num_rows) \\\n",
        "    .withColumn(\"name\", F.expr(\"random_string(10)\")) \\\n",
        "    .withColumn(\"age\", F.rand() * 100) \\\n",
        "    .withColumn(\"salary\", F.rand() * 100000) \\\n",
        "    .withColumn(\"department\", F.element_at(\n",
        "        F.array([F.lit(x) for x in [\"HR\", \"IT\", \"Sales\", \"Marketing\"]]),\n",
        "        (F.floor(F.rand() * 4) + 1).cast(\"int\")\n",
        "    ))"
      ],
      "metadata": {
        "id": "7lJZrc7jidEg"
      },
      "execution_count": 6,
      "outputs": []
    },
    {
      "cell_type": "code",
      "source": [
        "# Show schema and sample data\n",
        "print(\"Dataset Schema:\")\n",
        "data.printSchema()\n",
        "print(\"\\nSample Data:\")\n",
        "data.show(5, truncate=False)"
      ],
      "metadata": {
        "colab": {
          "base_uri": "https://localhost:8080/"
        },
        "id": "Lw8oRyg9ilqJ",
        "outputId": "e0e872ce-406c-4ba3-d04d-bd6f41ae622f"
      },
      "execution_count": null,
      "outputs": [
        {
          "output_type": "stream",
          "name": "stdout",
          "text": [
            "Dataset Schema:\n",
            "root\n",
            " |-- id: long (nullable = false)\n",
            " |-- name: string (nullable = true)\n",
            " |-- age: double (nullable = false)\n",
            " |-- salary: double (nullable = false)\n",
            " |-- department: string (nullable = true)\n",
            "\n",
            "\n",
            "Sample Data:\n",
            "+---+----------+------------------+------------------+----------+\n",
            "|id |name      |age               |salary            |department|\n",
            "+---+----------+------------------+------------------+----------+\n",
            "|0  |oqinrszkkj|82.66041044378221 |71677.26679725945 |Marketing |\n",
            "|1  |oxixzxngvu|52.62784283245882 |53947.905888449066|Sales     |\n",
            "|2  |dyrtloekku|80.90121145892998 |73944.16977455956 |IT        |\n",
            "|3  |bewlwtydfq|98.17214954246441 |55153.88050834428 |Marketing |\n",
            "|4  |klofwpuhqz|16.931541431663145|41805.691521503475|Marketing |\n",
            "+---+----------+------------------+------------------+----------+\n",
            "only showing top 5 rows\n",
            "\n"
          ]
        }
      ]
    },
    {
      "cell_type": "code",
      "source": [
        "# Configure partitioning\n",
        "num_partitions = 10"
      ],
      "metadata": {
        "id": "ziiKRVUTitRQ"
      },
      "execution_count": null,
      "outputs": []
    },
    {
      "cell_type": "code",
      "source": [
        "# 1. Repartition by number of partitions\n",
        "print(\"\\n1. Repartitioning by number of partitions\")\n",
        "repartitioned_data = data.repartition(num_partitions)\n",
        "print(f\"Number of partitions: {repartitioned_data.rdd.getNumPartitions()}\")"
      ],
      "metadata": {
        "colab": {
          "base_uri": "https://localhost:8080/"
        },
        "id": "GfcpSbKviu_4",
        "outputId": "59026198-20d5-4740-a6af-ad5da5333221"
      },
      "execution_count": null,
      "outputs": [
        {
          "output_type": "stream",
          "name": "stdout",
          "text": [
            "\n",
            "1. Repartitioning by number of partitions\n",
            "Number of partitions: 10\n"
          ]
        }
      ]
    },
    {
      "cell_type": "code",
      "source": [
        "# Save repartitioned data\n",
        "repartitioned_data.write \\\n",
        "    .mode(\"overwrite\") \\\n",
        "    .parquet(\"/content/repartitioned_data\")"
      ],
      "metadata": {
        "id": "968774BDi2RZ"
      },
      "execution_count": null,
      "outputs": []
    },
    {
      "cell_type": "code",
      "source": [
        "# 2. Partition by column (department)\n",
        "print(\"\\n2. Partitioning by department\")\n",
        "partitioned_by_dept = data.repartition(num_partitions, \"department\")\n",
        "print(f\"Number of partitions: {partitioned_by_dept.rdd.getNumPartitions()}\")"
      ],
      "metadata": {
        "colab": {
          "base_uri": "https://localhost:8080/"
        },
        "id": "2MiIE6zojFxA",
        "outputId": "9e3a528a-fc30-4df6-927c-10984e2dd3ce"
      },
      "execution_count": null,
      "outputs": [
        {
          "output_type": "stream",
          "name": "stdout",
          "text": [
            "\n",
            "2. Partitioning by department\n",
            "Number of partitions: 10\n"
          ]
        }
      ]
    },
    {
      "cell_type": "code",
      "source": [
        "# Save partitioned data by department\n",
        "partitioned_by_dept.write \\\n",
        "    .mode(\"overwrite\") \\\n",
        "    .partitionBy(\"department\") \\\n",
        "    .parquet(\"/content/partitioned_by_dept\")"
      ],
      "metadata": {
        "id": "IrnkihOPjTn5"
      },
      "execution_count": null,
      "outputs": []
    },
    {
      "cell_type": "code",
      "source": [
        "# 3. Coalesce to reduce partitions\n",
        "print(\"\\n3. Coalescing to fewer partitions\")\n",
        "coalesced_data = data.coalesce(5)\n",
        "print(f\"Number of partitions after coalesce: {coalesced_data.rdd.getNumPartitions()}\")"
      ],
      "metadata": {
        "colab": {
          "base_uri": "https://localhost:8080/"
        },
        "id": "9fh0tTRIjly4",
        "outputId": "d7e0dead-e635-4741-98d3-e393f39a1c44"
      },
      "execution_count": null,
      "outputs": [
        {
          "output_type": "stream",
          "name": "stdout",
          "text": [
            "\n",
            "3. Coalescing to fewer partitions\n",
            "Number of partitions after coalesce: 2\n"
          ]
        }
      ]
    },
    {
      "cell_type": "code",
      "source": [
        "# Save coalesced data\n",
        "coalesced_data.write \\\n",
        "    .mode(\"overwrite\") \\\n",
        "    .parquet(\"/content/coalesced_data\")\n"
      ],
      "metadata": {
        "id": "wkcYFrHajqBZ"
      },
      "execution_count": null,
      "outputs": []
    },
    {
      "cell_type": "code",
      "source": [
        "# Read back and verify partitioned data\n",
        "print(\"\\nReading partitioned data by department\")\n",
        "read_partitioned = spark.read.parquet(\"/content/partitioned_by_dept\")\n",
        "read_partitioned.groupBy(\"department\").count().show()\n"
      ],
      "metadata": {
        "colab": {
          "base_uri": "https://localhost:8080/"
        },
        "id": "bsifdo0PjvPZ",
        "outputId": "5a9f3cfe-f300-4986-a42c-3d279f98e09a"
      },
      "execution_count": null,
      "outputs": [
        {
          "output_type": "stream",
          "name": "stdout",
          "text": [
            "\n",
            "Reading partitioned data by department\n",
            "+----------+------+\n",
            "|department| count|\n",
            "+----------+------+\n",
            "|        HR|250214|\n",
            "|        IT|250122|\n",
            "|     Sales|249982|\n",
            "| Marketing|249682|\n",
            "+----------+------+\n",
            "\n"
          ]
        }
      ]
    },
    {
      "cell_type": "code",
      "source": [],
      "metadata": {
        "id": "ZGnTpkgvj1PZ"
      },
      "execution_count": null,
      "outputs": []
    }
  ]
}